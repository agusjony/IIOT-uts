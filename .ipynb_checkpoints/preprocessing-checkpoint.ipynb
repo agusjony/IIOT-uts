{
 "cells": [
  {
   "cell_type": "markdown",
   "metadata": {},
   "source": [
    "# Signal Preprocessing for UTS IIoT (TF4061) - 2019\n",
    "## Engineering Physics / Institut Teknologi Bandung\n",
    "By : Fadillah Adamsyah Ma'ani - 13316046"
   ]
  },
  {
   "cell_type": "code",
   "execution_count": 1,
   "metadata": {},
   "outputs": [],
   "source": [
    "import numpy as np\n",
    "import matplotlib\n",
    "import matplotlib.pyplot as plt"
   ]
  },
  {
   "cell_type": "markdown",
   "metadata": {},
   "source": [
    "# Finite Impulse Response"
   ]
  },
  {
   "cell_type": "markdown",
   "metadata": {},
   "source": [
    "Discrete Fourier Transform:\n",
    "$$\n",
    "X(k)=\\sum_{n=0}^{N-1}x(n)\\exp(-j\\omega_0 k n)\n",
    "$$\n",
    "Inverse Discrete Fourier Transform:\n",
    "$$\n",
    "x(n)=\\frac{1}{N}\\sum_{k=0}^{N-1}X(k)\\exp(j\\omega_0 kn)\n",
    "$$\n",
    "with $$\\omega_0=2\\pi f_0=\\frac{2\\pi}{T_0}$$\n",
    "where $f_0$ is the fundamental frequency"
   ]
  },
  {
   "cell_type": "markdown",
   "metadata": {},
   "source": [
    "## 1. Determine the desired frequency response"
   ]
  },
  {
   "cell_type": "code",
   "execution_count": 2,
   "metadata": {},
   "outputs": [
    {
     "data": {
      "image/png": "[encoded data removed]",
      "text/plain": [
       "<Figure size 432x288 with 1 Axes>"
      ]
     },
     "metadata": {
      "needs_background": "light"
     },
     "output_type": "display_data"
    }
   ],
   "source": [
    "Ts = 1 # sampling time\n",
    "fs = 1/Ts # sampling frequency\n",
    "\n",
    "# desired frequency response\n",
    "H=np.array([1, 0.9, 0.4, 0.4, 0.9])\n",
    "f1 = np.arange(0,fs,fs/H.shape[0]) # array of frequency\n",
    "\n",
    "plt.stem(f1,H, use_line_collection=True)\n",
    "plt.show()"
   ]
  },
  {
   "cell_type": "markdown",
   "metadata": {},
   "source": [
    "## 2. Find the inverse discrete fourier transform"
   ]
  },
  {
   "cell_type": "code",
   "execution_count": 3,
   "metadata": {},
   "outputs": [],
   "source": [
    "h=np.fft.ifft(H)"
   ]
  },
  {
   "cell_type": "markdown",
   "metadata": {},
   "source": [
    "## 3. Plot and analyze the frequency response of FIR for $N$ order filter"
   ]
  },
  {
   "cell_type": "markdown",
   "metadata": {},
   "source": [
    "$$\n",
    "H(z) = z^{-(N-1)/2}\\,\\left[h(0) + \\sum_{n=1}^{(N-1)/2}\\left(h(-n)z^n +h(n)z^{-n} \\right)  \\right]\n",
    "$$\n",
    "for causal system:\n",
    "$$\n",
    "h(-n) = h(n)\n",
    "$$"
   ]
  },
  {
   "cell_type": "code",
   "execution_count": 4,
   "metadata": {},
   "outputs": [],
   "source": [
    "f2 = np.arange(0,fs,0.005)\n",
    "w = 2 * np.pi * f2\n",
    "z=np.exp(Ts*w*1j)"
   ]
  },
  {
   "cell_type": "markdown",
   "metadata": {},
   "source": [
    "Remember that:\n",
    "$$\n",
    "\\exp(-j\\omega n T_s)=z^{-n}\n",
    "$$\n",
    "then\n",
    "$$\n",
    "z = \\exp(j\\omega T_s)\n",
    "$$"
   ]
  },
  {
   "cell_type": "code",
   "execution_count": 5,
   "metadata": {},
   "outputs": [],
   "source": [
    "ht = np.ones(z.shape[0])*h[0]\n",
    "N = 5 # filter's order\n",
    "for i in range(1,1+int((N-1)/2)):\n",
    "    ht = ht + h[i]*(z**(i)+z**(-i))\n",
    "hh = ht * z**(-(N-1)/2)"
   ]
  },
  {
   "cell_type": "code",
   "execution_count": 6,
   "metadata": {},
   "outputs": [
    {
     "data": {
      "image/png": "[encoded data removed]",
      "text/plain": [
       "<Figure size 432x288 with 1 Axes>"
      ]
     },
     "metadata": {
      "needs_background": "light"
     },
     "output_type": "display_data"
    }
   ],
   "source": [
    "plt.plot(f2,np.absolute(hh))\n",
    "plt.xlabel('f (Hz)')\n",
    "plt.ylabel('magnitude H(z)')\n",
    "plt.show()"
   ]
  },
  {
   "cell_type": "markdown",
   "metadata": {},
   "source": [
    "## 4. Build the recursive equation"
   ]
  },
  {
   "cell_type": "markdown",
   "metadata": {},
   "source": [
    "Suppose that $N=5$:\n",
    "$$H(z)=\\frac{Y(z)}{X(z)}=h(2)+h(1)\\,z^{-1}+h(0)\\,z^{-2}+h(1)\\,z^{-3}+h(2)\\,z^{-4}$$\n",
    "\n",
    "$$y(n)=h(2)\\,x(n)+h(1)\\,x(n-1)+h(0)\\,x(n-2)+h(3)\\,x(n-3)+h(4)\\,x(n-4)$$"
   ]
  },
  {
   "cell_type": "markdown",
   "metadata": {},
   "source": [
    "<hr>"
   ]
  },
  {
   "cell_type": "markdown",
   "metadata": {},
   "source": [
    "<center>\n",
    "Main Repository : <a href=\"http://github.com/mzprz/uts-iiot\"> http://github.com/mzprz/uts-iiot </a> <br>\n",
    "- 2019 - \n",
    "</center>\n",
    "   "
   ]
  },
  {
   "cell_type": "markdown",
   "metadata": {},
   "source": [
    "<hr>"
   ]
  }
 ],
 "metadata": {
  "kernelspec": {
   "display_name": "Python 3",
   "language": "python",
   "name": "python3"
  },
  "language_info": {
   "codemirror_mode": {
    "name": "ipython",
    "version": 3
   },
   "file_extension": ".py",
   "mimetype": "text/x-python",
   "name": "python",
   "nbconvert_exporter": "python",
   "pygments_lexer": "ipython3",
   "version": "3.6.8"
  }
 },
 "nbformat": 4,
 "nbformat_minor": 4
}
